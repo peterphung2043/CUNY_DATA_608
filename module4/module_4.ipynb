{
 "cells": [
  {
   "attachments": {},
   "cell_type": "markdown",
   "metadata": {},
   "source": [
    "### Business Request\n",
    "\n",
    "In this module we’ll be looking at data from the New York City tree census:\n",
    "https://data.cityofnewyork.us/Environment/2015-Street-Tree-Census-Tree-Data/uvpi-gqnh\n",
    "\n",
    "This data is collected by volunteers across the city, and is meant to catalog information\n",
    "about every single tree in the city.\n",
    "\n",
    "Build a dash app for a arborist studying the health of various tree species (as defined by the\n",
    "variable `spc_common`) across each borough (defined by the variable `borough`). This\n",
    "arborist would like to answer the following two questions for each species and in each\n",
    "borough:\n",
    "\n",
    "1. What proportion of trees are in good, fair, or poor health according to the `health`\n",
    "variable?\n",
    "\n",
    "2. Are stewards (steward activity measured by the `steward` variable) having an impact\n",
    "on the health of trees?\n",
    "\n",
    "Please see the accompanying notebook for an introduction and some notes on the Socrata\n",
    "API.\n",
    "\n",
    "*Deployment*: ​ Dash deployment is more complicated than deploying shiny apps, so\n",
    "deployment in this case is *optional* (and will result in extra credit). You can read instructions on deploying a dash app to heroku here: ​ https://dash.plot.ly/deployment"
   ]
  },
  {
   "attachments": {},
   "cell_type": "markdown",
   "metadata": {},
   "source": [
    "### Import Libraries"
   ]
  },
  {
   "cell_type": "code",
   "execution_count": 3,
   "metadata": {},
   "outputs": [],
   "source": [
    "import pandas as pd\n",
    "from dash import Dash, dcc, html\n",
    "from dash.dependencies import Input, Output\n",
    "import plotly.express as px\n"
   ]
  },
  {
   "attachments": {},
   "cell_type": "markdown",
   "metadata": {},
   "source": [
    "### Get the unique boroughs and unique species\n",
    "\n",
    "This is so we can create the drop down lists for each of the Dash apps. We'll be storing the unique boroughs in the `distinct_boroughs` dataframe, and the distinct species in the `distinct_spc_common` dataframe."
   ]
  },
  {
   "cell_type": "code",
   "execution_count": 4,
   "metadata": {},
   "outputs": [],
   "source": [
    "## Get all the boroughs in the dataset\n",
    "\n",
    "boro_url = ('https://data.cityofnewyork.us/resource/nwxe-4ae8.json?' +\\\n",
    "            '$query=select distinct boroname').replace(' ', '%20')\n",
    "distinct_boroughs = pd.read_json(boro_url)"
   ]
  },
  {
   "cell_type": "code",
   "execution_count": 5,
   "metadata": {},
   "outputs": [],
   "source": [
    "# Get all the common species in the dataset\n",
    "\n",
    "spc_common_url = ('https://data.cityofnewyork.us/resource/nwxe-4ae8.json?' +\\\n",
    "            '$query=select distinct spc_common').replace(' ', '%20')\n",
    "distinct_spc_common = pd.read_json(spc_common_url)"
   ]
  },
  {
   "cell_type": "code",
   "execution_count": 26,
   "metadata": {},
   "outputs": [],
   "source": [
    "boro = distinct_boroughs['boroname'][4]\n",
    "spc_common = distinct_spc_common['spc_common'][10]\n",
    "\n",
    "soql_url = ('https://data.cityofnewyork.us/resource/nwxe-4ae8.json?' +\\\n",
    "        '$select=health,count(tree_id)' +\\\n",
    "        '&$where=boroname=\\'{}\\'&spc_common=\\'{}\\''.format(boro, spc_common) +\\\n",
    "        '&$group=health').replace(' ', '%20')\n",
    "\n",
    "soql_trees = pd.read_json(soql_url)\n",
    "\n",
    "soql_trees['proportion'] = round(soql_trees['count_tree_id']/soql_trees['count_tree_id'].sum(), 2)"
   ]
  },
  {
   "attachments": {},
   "cell_type": "markdown",
   "metadata": {},
   "source": [
    "### Question 1 Dash App\n",
    "Create a drop down menu for `spc_common` and `borough`, which will update the `soql_url` and thus the `soql_trees` dataframe. This question is pretty self explanatory. We just plot the proportion of trees using a bar chart."
   ]
  },
  {
   "cell_type": "code",
   "execution_count": 30,
   "metadata": {},
   "outputs": [
    {
     "name": "stdout",
     "output_type": "stream",
     "text": [
      "Dash is running on http://127.0.0.1:8050/\n",
      "\n",
      " * Serving Flask app '__main__'\n",
      " * Debug mode: off\n"
     ]
    },
    {
     "name": "stderr",
     "output_type": "stream",
     "text": [
      "\u001b[31m\u001b[1mWARNING: This is a development server. Do not use it in a production deployment. Use a production WSGI server instead.\u001b[0m\n",
      " * Running on http://127.0.0.1:8050\n",
      "\u001b[33mPress CTRL+C to quit\u001b[0m\n",
      "127.0.0.1 - - [25/Mar/2023 01:03:05] \"GET / HTTP/1.1\" 200 -\n",
      "127.0.0.1 - - [25/Mar/2023 01:03:05] \"GET /_dash-layout HTTP/1.1\" 200 -\n",
      "127.0.0.1 - - [25/Mar/2023 01:03:05] \"GET /_dash-dependencies HTTP/1.1\" 200 -\n",
      "127.0.0.1 - - [25/Mar/2023 01:03:05] \"\u001b[36mGET /_dash-component-suites/dash/dcc/async-dropdown.js HTTP/1.1\u001b[0m\" 304 -\n",
      "127.0.0.1 - - [25/Mar/2023 01:03:05] \"GET /_dash-component-suites/dash/dcc/async-graph.js HTTP/1.1\" 200 -\n",
      "127.0.0.1 - - [25/Mar/2023 01:03:05] \"\u001b[36mGET /_dash-component-suites/dash/dcc/async-plotlyjs.js HTTP/1.1\u001b[0m\" 304 -\n",
      "127.0.0.1 - - [25/Mar/2023 01:03:05] \"POST /_dash-update-component HTTP/1.1\" 200 -\n",
      "127.0.0.1 - - [25/Mar/2023 01:03:09] \"POST /_dash-update-component HTTP/1.1\" 200 -\n"
     ]
    }
   ],
   "source": [
    "# Run this app with `python app.py` and\n",
    "# visit http://127.0.0.1:8050/ in your web browser.\n",
    "\n",
    "from dash import Dash, dcc, html\n",
    "from dash.dependencies import Input, Output\n",
    "import plotly.express as px\n",
    "\n",
    "app = Dash(__name__)\n",
    "\n",
    "colors = {\n",
    "    'background': '#111111',\n",
    "    'text': '#7FDBFF'\n",
    "}\n",
    "\n",
    "app.layout = html.Div(style={'backgroundColor': colors['background']}, children=[\n",
    "    html.H1(\n",
    "        style={\n",
    "            'textAlign': 'center',\n",
    "            'color': colors['text']\n",
    "        }\n",
    "    ),\n",
    "\n",
    "    dcc.Dropdown(id='boro_selection', options=[\n",
    "    {'label': x, 'value': x} for x in distinct_boroughs['boroname']\n",
    "    ],\n",
    "            value = 'Bronx'),\n",
    "            \n",
    "    dcc.Dropdown(id='spc_selection', options=[\n",
    "    {'label': x, 'value': x} for x in distinct_spc_common['spc_common']\n",
    "    ],\n",
    "            value = 'black walnut'),\n",
    "\n",
    "    dcc.Graph(\n",
    "        id='example-graph'\n",
    "    )\n",
    "])\n",
    "\n",
    "@app.callback(Output('example-graph', 'figure'),\n",
    "              [Input('boro_selection', 'value'),\n",
    "               Input('spc_selection', 'value')])\n",
    "\n",
    "def update_figure(boro_selection, spc_selection):\n",
    "    soql_url = ('https://data.cityofnewyork.us/resource/nwxe-4ae8.json?' +\\\n",
    "            '$select=health,count(tree_id)' +\\\n",
    "            '&$where=boroname=\\'{}\\'&spc_common=\\'{}\\''.format(boro_selection, spc_selection) +\\\n",
    "            '&$group=health').replace(' ', '%20')\n",
    "\n",
    "    soql_trees = pd.read_json(soql_url)\n",
    "\n",
    "    soql_trees['proportion'] = round(soql_trees['count_tree_id']/soql_trees['count_tree_id'].sum(), 2)\n",
    "    soql_trees = soql_trees.sort_values('proportion')\n",
    "\n",
    "    fig = px.bar(\n",
    "        soql_trees, \n",
    "        x=\"health\", \n",
    "        y=\"proportion\",\n",
    "        text_auto=True,\n",
    "        title = 'Proportion of {} Trees In Good, Fair, or Poor Health for the {} Borough'.format(spc_selection, boro_selection)\n",
    "        )\n",
    "\n",
    "    fig.update_layout(\n",
    "        plot_bgcolor=colors['background'],\n",
    "        paper_bgcolor=colors['background'],\n",
    "        font_color=colors['text']\n",
    "    )\n",
    "\n",
    "    return fig\n",
    "\n",
    "\n",
    "if __name__ == '__main__':\n",
    "    app.run_server()"
   ]
  },
  {
   "attachments": {},
   "cell_type": "markdown",
   "metadata": {},
   "source": [
    "# Question 2"
   ]
  },
  {
   "attachments": {},
   "cell_type": "markdown",
   "metadata": {},
   "source": [
    "### Let's Think About This\n",
    "\n",
    "Stewardess activity is defined as the following by the docs:\n",
    "\n",
    "Below is a short list of the most common examples of what counts as one\n",
    "stewardship activity:\n",
    "\n",
    "- Helpful tree guards that do not appear professionally installed\n",
    "\n",
    "- Mulch or woodchips\n",
    "\n",
    "- Intentionally-planted flowers or other plants\n",
    "\n",
    "- Signs related to care of the tree or bed, other than those installed by parks\n",
    "\n",
    "- Decorations (not including wires or lights added to the tree)\n",
    "\n",
    "- Seating in the tree bed, usually as part of the tree guard\n",
    "\n",
    "- Viewing someone performing a stewardship activity during the survey\n",
    "\n",
    "We should probably just consider trees that had stewardess activities done on them. Therefore, we will ignore trees where `steward == None`. Since there are 3 other `steward` categories (`1or2`,`3or4`,`4orMore`) and 3 `health` categories (`Good`,`Fair`,`Poor`), if we were to plot the `tree_id` count for each of these, we would end up with 6 different bar sizes, and I feel that that would be difficult to read and make conclusions as if stewards are having an impact on the health of trees.\n",
    "\n",
    "Therefore, I propose that we do the following for each borough and species.\n",
    "\n",
    "1. Ignore the observations where `steward == None`.\n",
    "2. Group by `health`\n",
    "3. Count the number of observations for each group.\n",
    "\n",
    "Since each of the steward categories that are not None indicate that at least one stewardness activity took place for a tree, we can now generate bar charts that include a maximum of just 3 bars.\n",
    "\n",
    "- One bar showing us the count where at least 1 stewardness activity took place and is in `Fair` health.\n",
    "- Another bar showing us the count where at least 1 stewardness activity took place and is in `Good` health.\n",
    "- Another bar showing us the count where at least 1 stewardness activity took place and is in `Poor` health.\n",
    "\n",
    "Based on this, we can now determine the proportion of trees where:\n",
    "\n",
    "- where at least 1 stewardness activity took place and is in `Fair` health vs. all of the trees where at least 1 stewardness activity took place in that borough and for that particular species\n",
    "- where at least 1 stewardness activity took place and is in `Good` health vs. all of the trees where at least 1 stewardness activity took place in that borough and for that particular species\n",
    "- where at least 1 stewardness activity took place and is in `Poor` health vs. all of the trees where at least 1 stewardness activity took place in that borough and for that particular species"
   ]
  },
  {
   "cell_type": "code",
   "execution_count": 75,
   "metadata": {},
   "outputs": [
    {
     "name": "stdout",
     "output_type": "stream",
     "text": [
      "Dash is running on http://127.0.0.1:8050/\n",
      "\n",
      " * Serving Flask app '__main__'\n",
      " * Debug mode: off\n"
     ]
    },
    {
     "name": "stderr",
     "output_type": "stream",
     "text": [
      "\u001b[31m\u001b[1mWARNING: This is a development server. Do not use it in a production deployment. Use a production WSGI server instead.\u001b[0m\n",
      " * Running on http://127.0.0.1:8050\n",
      "\u001b[33mPress CTRL+C to quit\u001b[0m\n",
      "127.0.0.1 - - [26/Mar/2023 19:40:48] \"GET / HTTP/1.1\" 200 -\n",
      "127.0.0.1 - - [26/Mar/2023 19:40:48] \"GET /_dash-layout HTTP/1.1\" 200 -\n",
      "127.0.0.1 - - [26/Mar/2023 19:40:48] \"GET /_dash-dependencies HTTP/1.1\" 200 -\n",
      "127.0.0.1 - - [26/Mar/2023 19:40:48] \"\u001b[36mGET /_dash-component-suites/dash/dcc/async-dropdown.js HTTP/1.1\u001b[0m\" 304 -\n",
      "127.0.0.1 - - [26/Mar/2023 19:40:48] \"\u001b[36mGET /_dash-component-suites/dash/dcc/async-graph.js HTTP/1.1\u001b[0m\" 304 -\n",
      "127.0.0.1 - - [26/Mar/2023 19:40:48] \"\u001b[36mGET /_dash-component-suites/dash/dcc/async-plotlyjs.js HTTP/1.1\u001b[0m\" 304 -\n",
      "127.0.0.1 - - [26/Mar/2023 19:40:49] \"POST /_dash-update-component HTTP/1.1\" 200 -\n",
      "127.0.0.1 - - [26/Mar/2023 19:40:51] \"POST /_dash-update-component HTTP/1.1\" 200 -\n",
      "127.0.0.1 - - [26/Mar/2023 19:40:57] \"POST /_dash-update-component HTTP/1.1\" 200 -\n",
      "127.0.0.1 - - [26/Mar/2023 19:40:58] \"POST /_dash-update-component HTTP/1.1\" 200 -\n"
     ]
    }
   ],
   "source": [
    "# Run this app with `python app.py` and\n",
    "# visit http://127.0.0.1:8050/ in your web browser.\n",
    "\n",
    "app = Dash(__name__)\n",
    "\n",
    "colors = {\n",
    "    'background': '#111111',\n",
    "    'text': '#7FDBFF'\n",
    "}\n",
    "\n",
    "app.layout = html.Div(style={'backgroundColor': colors['background']}, children=[\n",
    "    html.H1(\n",
    "        style={\n",
    "            'textAlign': 'center',\n",
    "            'color': colors['text']\n",
    "        }\n",
    "    ),\n",
    "\n",
    "    dcc.Dropdown(id='boro_selection', options=[\n",
    "    {'label': x, 'value': x} for x in distinct_boroughs['boroname']\n",
    "    ],\n",
    "            value = 'Bronx'),\n",
    "            \n",
    "    dcc.Dropdown(id='spc_selection', options=[\n",
    "    {'label': x, 'value': x} for x in distinct_spc_common['spc_common']\n",
    "    ],\n",
    "            value = 'black walnut'),\n",
    "\n",
    "    dcc.Graph(\n",
    "        id='example-graph'\n",
    "    )\n",
    "])\n",
    "\n",
    "@app.callback(Output('example-graph', 'figure'),\n",
    "              [Input('boro_selection', 'value'),\n",
    "               Input('spc_selection', 'value')])\n",
    "\n",
    "def update_figure(boro_selection, spc_selection):\n",
    "    soql_url = ('https://data.cityofnewyork.us/resource/nwxe-4ae8.json?' +\\\n",
    "            '$select=steward, health' +\\\n",
    "            '&$where=boroname=\\'{}\\'&spc_common=\\'{}\\''.format(boro_selection, spc_selection)\n",
    "            ).replace(' ', '%20')\n",
    "\n",
    "    soql_trees = pd.read_json(soql_url)\n",
    "    soql_trees = ((soql_trees.query('steward != \\'None\\'').groupby('health').count()['steward']) / (soql_trees.query('steward != \\'None\\'').groupby('health').count()['steward'].sum())).to_frame().reset_index().rename(columns = {'steward':'steward_prop'})\n",
    "    soql_trees['steward_prop'] = round(soql_trees['steward_prop'], 2)\n",
    "    soql_trees = soql_trees.sort_values('steward_prop')\n",
    "\n",
    "    fig = px.bar(\n",
    "        soql_trees, \n",
    "        x=\"health\", \n",
    "        y=\"steward_prop\",\n",
    "        text_auto=True,\n",
    "        title = 'Proportion of {} Trees In Good, Fair, or Poor Health Where >= 1 Stewardess Activity Took Place for the {} Borough'.format(spc_selection, boro_selection)\n",
    "        )\n",
    "\n",
    "    fig.update_layout(\n",
    "        plot_bgcolor=colors['background'],\n",
    "        paper_bgcolor=colors['background'],\n",
    "        font_color=colors['text']\n",
    "    )\n",
    "\n",
    "    return fig\n",
    "\n",
    "\n",
    "if __name__ == '__main__':\n",
    "    app.run_server()"
   ]
  }
 ],
 "metadata": {
  "kernelspec": {
   "display_name": "data_608",
   "language": "python",
   "name": "python3"
  },
  "language_info": {
   "codemirror_mode": {
    "name": "ipython",
    "version": 3
   },
   "file_extension": ".py",
   "mimetype": "text/x-python",
   "name": "python",
   "nbconvert_exporter": "python",
   "pygments_lexer": "ipython3",
   "version": "3.10.0"
  },
  "orig_nbformat": 4
 },
 "nbformat": 4,
 "nbformat_minor": 2
}

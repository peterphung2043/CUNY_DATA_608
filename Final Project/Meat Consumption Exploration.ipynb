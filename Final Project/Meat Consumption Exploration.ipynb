{
 "cells": [
  {
   "attachments": {},
   "cell_type": "markdown",
   "metadata": {},
   "source": [
    "### Problem Statement"
   ]
  },
  {
   "attachments": {},
   "cell_type": "markdown",
   "metadata": {},
   "source": [
    "The BBC points out that global meat consumption has [increased rapidly over the last 50 years](https://www.bbc.com/news/health-47057341). The article states that the richer the country, the greater the meat consumption. If we were to identify trends and patterns in meat consumption that are associated with changes in GDP in [GDP data collected from Wikipedia](https://en.wikipedia.org/wiki/List_of_countries_by_past_and_projected_GDP_(nominal)_per_capita), then we can provide evidence to the idea that GDP growth does indeed influcence meat consumption. [Meat production has a large environmental impact](https://www.greenpeace.org.uk/news/why-meat-is-bad-for-the-environment/), which includes deforestation to build industrial meat farms, billions of tons of carbon dioxide being released into the atmosphere, feed sourcing, and manure processing, to name a few. Therefore, countries that consume the most amount of meat should do their part to reduce the environmental impact of meat consumption."
   ]
  },
  {
   "attachments": {},
   "cell_type": "markdown",
   "metadata": {},
   "source": [
    "### Additional Data Links"
   ]
  },
  {
   "attachments": {},
   "cell_type": "markdown",
   "metadata": {},
   "source": [
    "- [Meat consumption data from OECD](https://data.oecd.org/agroutput/meat-consumption.htm)"
   ]
  },
  {
   "attachments": {},
   "cell_type": "markdown",
   "metadata": {},
   "source": [
    "### Import Libraries"
   ]
  },
  {
   "cell_type": "code",
   "execution_count": 1,
   "metadata": {},
   "outputs": [],
   "source": [
    "import pandas as pd"
   ]
  },
  {
   "attachments": {},
   "cell_type": "markdown",
   "metadata": {},
   "source": [
    "### Import Data"
   ]
  },
  {
   "cell_type": "code",
   "execution_count": 2,
   "metadata": {},
   "outputs": [],
   "source": [
    "# OECD Meat Consumption Data\n",
    "meat_consumption_df = pd.read_csv(\n",
    "    filepath_or_buffer=\"https://raw.githubusercontent.com/peterphung2043/CUNY_DATA_608/master/Final%20Project/data/world_meat_consumption.csv\"\n",
    ")"
   ]
  },
  {
   "cell_type": "code",
   "execution_count": null,
   "metadata": {},
   "outputs": [],
   "source": []
  }
 ],
 "metadata": {
  "kernelspec": {
   "display_name": "data_608",
   "language": "python",
   "name": "python3"
  },
  "language_info": {
   "codemirror_mode": {
    "name": "ipython",
    "version": 3
   },
   "file_extension": ".py",
   "mimetype": "text/x-python",
   "name": "python",
   "nbconvert_exporter": "python",
   "pygments_lexer": "ipython3",
   "version": "3.10.0"
  },
  "orig_nbformat": 4
 },
 "nbformat": 4,
 "nbformat_minor": 2
}
